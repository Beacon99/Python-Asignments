{
 "cells": [
  {
   "cell_type": "code",
   "execution_count": null,
   "id": "5dba1393-fb03-4c48-8981-cb64bad43475",
   "metadata": {},
   "outputs": [],
   "source": [
    "#1.Temperature Check:\n",
    "temp = float(input(\"Enter the temperature: \"))\n",
    "if temp > 30 or temp == 30:\n",
    "    print(\"It's hot outside!\")\n",
    "elif 15< temp <30:\n",
    "    print(\"It's warm outside.\")\n",
    "elif temp<15:\n",
    "    print(\"It's cold outside.\")"
   ]
  },
  {
   "cell_type": "code",
   "execution_count": null,
   "id": "7b465f29-64f9-4cb1-acae-9af975e3a1ed",
   "metadata": {},
   "outputs": [],
   "source": [
    "#2. Even or Odd:\n",
    "num=int(input(\"Please enter a number you wanna check: \"))\n",
    "if num%2==0:\n",
    "    print(\"The number is even.\")\n",
    "else:\n",
    "    print(\"The number is odd.\")\n"
   ]
  },
  {
   "cell_type": "code",
   "execution_count": null,
   "id": "7704b59e-3355-4ce9-a699-87992d0ef220",
   "metadata": {},
   "outputs": [],
   "source": [
    "#3. Grade Calculator:\n",
    "grade = int(input(\"Enter your grade: \"))\n",
    "if grade >= 90:\n",
    "    print(\"A\")\n",
    "elif 80 <= grade < 90:\n",
    "    print(\"B\")\n",
    "elif 70 <= grade < 80:\n",
    "    print(\"C\")\n",
    "elif 60 <= grade < 70:\n",
    "    print(\"D\")\n",
    "else:\n",
    "    print(\"F\")\n"
   ]
  },
  {
   "cell_type": "code",
   "execution_count": null,
   "id": "901e1e72-9e45-4610-a216-5d5aa9a34032",
   "metadata": {},
   "outputs": [],
   "source": [
    "#4. Voting Eligibility:\n",
    "age = float(input(\"Please enter your age here:\"))\n",
    "if age >= 18:\n",
    "    print(\"You are eligible to vote.\")\n",
    "else:\n",
    "    print(\"You are not eligible to vote.\")"
   ]
  },
  {
   "cell_type": "code",
   "execution_count": null,
   "id": "34ee86db-a0b7-4cdd-a2ce-c9c91120747f",
   "metadata": {},
   "outputs": [],
   "source": [
    "#5. Maximum of Three:\n",
    "a=float(input(\"Please enter the first number: \"))\n",
    "b=float(input(\"Please enter the second number: \"))\n",
    "c=float(input(\"Please enter the third number: \"))\n",
    "if a>b and a>c:\n",
    "    print(f\"{a} is the greatest of all three numbers.\")\n",
    "elif b>a and b>c:\n",
    "    print(f\"{b} is the greatest of all three numbers.\")\n",
    "else:\n",
    "    print(f\"{c} is the greatest of all three numbers.\")"
   ]
  },
  {
   "cell_type": "code",
   "execution_count": null,
   "id": "316cd3c1-eeeb-41ef-801b-bbc34b29aaef",
   "metadata": {},
   "outputs": [],
   "source": [
    "#6. Triangle Validity:\n",
    "a=float(input(\"Please enter the first side length: \"))\n",
    "b=float(input(\"Please enter the second side length: \"))\n",
    "c=float(input(\"Please enter the third side length: \"))\n",
    "if a+b>c and a+c>b and b+c>a:\n",
    "    print(\"The triangle is valid.\")\n",
    "else:\n",
    "    print(\"The triangle is not valid.\")\n"
   ]
  },
  {
   "cell_type": "code",
   "execution_count": null,
   "id": "98a5c964-d0d0-4cc3-82c0-da83411cbc0f",
   "metadata": {},
   "outputs": [],
   "source": [
    "#7. Leap Year Checker:\n",
    "year=int(input(\"Please enter year you want to check if leap or not\"))\n",
    "if year%4==0 and year%100!=0 or year%400==0:\n",
    "  print(\"The year is a leap year.\")\n",
    "else:\n",
    "  print(\"The year is not a leap year\")"
   ]
  },
  {
   "cell_type": "code",
   "execution_count": null,
   "id": "8a69aaaf-e0fc-4e4a-8fcc-3afa1ef5bcb9",
   "metadata": {},
   "outputs": [],
   "source": [
    "#8. Character Checker:\n",
    "char=input(\"Pls enter a character:\")\n",
    "first= char[0]\n",
    "if first in (\"a\",\"e\",\"i\",\"o\",\"u\"):\n",
    "  print(\"The character is a vowel.\")\n",
    "else:\n",
    "  print(\"The character is a consonant.\")"
   ]
  },
  {
   "cell_type": "code",
   "execution_count": null,
   "id": "190052ea-81b8-46ed-b4b9-03744d372b5a",
   "metadata": {},
   "outputs": [],
   "source": [
    "#9. Divisibility Check:\n",
    "num=int(input(\"Pls enter a no.:\"))\n",
    "if num%5==0:\n",
    "  print(\"The number is divisible by 5.\")\n",
    "elif num%11==0:\n",
    "  print(\"The number is not divisible by 11.\")\n",
    "elif num%5==0 and num%11==0:\n",
    "  print(\"The number is divisible by both 5 and 11.\")\n",
    "else:\n",
    "  print(\"The number is not divisible by either 5 or 11.\")"
   ]
  },
  {
   "cell_type": "code",
   "execution_count": null,
   "id": "0094884e-7bfc-440a-874d-96113576184f",
   "metadata": {},
   "outputs": [],
   "source": [
    "#10. Day of the Week:\n",
    "Int=int(input(\"Pls enter a number from 1 to 7:\"))\n",
    "if Int==1:\n",
    "  print(\"Monday\")\n",
    "elif Int==2:\n",
    "  print(\"Tuesday\")\n",
    "elif Int==3:\n",
    "  print(\"Wednesday\")\n",
    "elif Int==4:\n",
    "  print(\"Thursday\")\n",
    "elif Int==5:\n",
    "  print(\"Friday\")\n",
    "elif Int==5:\n",
    "  print(\"Saturday\")\n",
    "elif Int==6:\n",
    "  print(\"Sunday\")"
   ]
  },
  {
   "cell_type": "code",
   "execution_count": null,
   "id": "3cd159bd-7033-4233-bd09-fa603f94d34c",
   "metadata": {},
   "outputs": [],
   "source": [
    "#11. Sum of N Numbers: \n",
    "N = int(input(\"Pls enter no. you want sum of\"))\n",
    "sum = 0\n",
    "for num in range(1,N+1):\n",
    "    sum += num\n",
    "print(f\"The sum of the first {N} natural numbers is: {sum}\")"
   ]
  },
  {
   "cell_type": "code",
   "execution_count": 7,
   "id": "15b19ce3-457e-448d-8fd6-36478619701a",
   "metadata": {},
   "outputs": [
    {
     "name": "stdin",
     "output_type": "stream",
     "text": [
      "Enter no. you want table of: 2\n"
     ]
    },
    {
     "name": "stdout",
     "output_type": "stream",
     "text": [
      "2 into 1 = 2\n",
      "2 into 2 = 4\n",
      "2 into 3 = 6\n",
      "2 into 4 = 8\n",
      "2 into 5 = 10\n",
      "2 into 6 = 12\n",
      "2 into 7 = 14\n",
      "2 into 8 = 16\n",
      "2 into 9 = 18\n",
      "2 into 10 = 20\n"
     ]
    }
   ],
   "source": [
    "#12. Multiplication Table: \n",
    "num = int(input(\"Enter no. you want table of:\"))\n",
    "for i in range(1,11):\n",
    "    print(num,'into',i,'=',i*num)"
   ]
  },
  {
   "cell_type": "code",
   "execution_count": 17,
   "id": "df565848-84e6-40e6-9b62-fb108215eea7",
   "metadata": {},
   "outputs": [
    {
     "name": "stdin",
     "output_type": "stream",
     "text": [
      "Pls enter a no. you want a factorial of: 4\n"
     ]
    },
    {
     "name": "stdout",
     "output_type": "stream",
     "text": [
      "The factorial for above value is: 24\n"
     ]
    }
   ],
   "source": [
    "#13. Factorial Calculation:\n",
    "num = int(input(\"Pls enter a no. you want a factorial of:\"))\n",
    "fact = 1\n",
    "for i in range(1,num+1):\n",
    "    fact=fact*i\n",
    "print(\"The factorial for above value is:\",fact)"
   ]
  },
  {
   "cell_type": "code",
   "execution_count": 25,
   "id": "5e5835d7-a7d3-4942-9973-aa75dad17d1a",
   "metadata": {},
   "outputs": [
    {
     "name": "stdin",
     "output_type": "stream",
     "text": [
      "Pls enter a no. you want Fibonacci series of: 3\n"
     ]
    },
    {
     "name": "stdout",
     "output_type": "stream",
     "text": [
      "4\n",
      "5\n",
      "6\n"
     ]
    }
   ],
   "source": [
    "#14. Fibonacci Series:\n",
    "num = int(input(\"Pls enter a no. you want Fibonacci series of:\"))\n",
    "sum = 0\n",
    "for i in range(1,num+1):\n",
    "    sum = num+i\n",
    "    print(sum)\n"
   ]
  },
  {
   "cell_type": "code",
   "execution_count": 33,
   "id": "d3ba215e-368c-433b-9ede-15b420d57dba",
   "metadata": {},
   "outputs": [
    {
     "name": "stdin",
     "output_type": "stream",
     "text": [
      "Enter a number:  3\n"
     ]
    },
    {
     "name": "stdout",
     "output_type": "stream",
     "text": [
      "3 is a prime number.\n"
     ]
    }
   ],
   "source": [
    "#16. Prime Number Checker:\n",
    "number = int(input(\"Enter a number: \"))\n",
    "is_prime = True\n",
    "if number <= 1:\n",
    "    is_prime = False\n",
    "else:\n",
    "    for i in range(2, int(number**0.5) + 1):\n",
    "        if number % i == 0:\n",
    "            is_prime = False\n",
    "            break\n",
    "if is_prime:\n",
    "    print(f\"{number} is a prime number.\")\n",
    "else:\n",
    "    print(f\"{number} is not a prime number.\")\n"
   ]
  },
  {
   "cell_type": "code",
   "execution_count": null,
   "id": "28d4543b-01df-4cb9-b974-30d3782ca3d7",
   "metadata": {},
   "outputs": [],
   "source": []
  },
  {
   "cell_type": "code",
   "execution_count": null,
   "id": "07602c12-0aa2-46c1-bc88-d251cde7b6c0",
   "metadata": {},
   "outputs": [],
   "source": []
  },
  {
   "cell_type": "code",
   "execution_count": null,
   "id": "44334a4a-08b7-4a73-a229-3a497c76f702",
   "metadata": {},
   "outputs": [],
   "source": []
  },
  {
   "cell_type": "code",
   "execution_count": null,
   "id": "e0762261-4817-4787-97ac-8d39344689a5",
   "metadata": {},
   "outputs": [],
   "source": []
  },
  {
   "cell_type": "code",
   "execution_count": null,
   "id": "d692974d-798f-410c-a98b-46080ce3a4ae",
   "metadata": {},
   "outputs": [],
   "source": []
  },
  {
   "cell_type": "code",
   "execution_count": null,
   "id": "aafbd660-5c0f-4681-8ad1-0f6cbc7e66f6",
   "metadata": {},
   "outputs": [],
   "source": []
  }
 ],
 "metadata": {
  "kernelspec": {
   "display_name": "Python 3 (ipykernel)",
   "language": "python",
   "name": "python3"
  },
  "language_info": {
   "codemirror_mode": {
    "name": "ipython",
    "version": 3
   },
   "file_extension": ".py",
   "mimetype": "text/x-python",
   "name": "python",
   "nbconvert_exporter": "python",
   "pygments_lexer": "ipython3",
   "version": "3.12.4"
  }
 },
 "nbformat": 4,
 "nbformat_minor": 5
}
