{
 "cells": [
  {
   "cell_type": "code",
   "execution_count": 1,
   "id": "2d527a6f",
   "metadata": {},
   "outputs": [
    {
     "name": "stdout",
     "output_type": "stream",
     "text": [
      "[1, 2, 3, 4, 5, 6, 7, 8, 9, 10, 11, 12, 13, 14, 15, 16, 17, 18, 19, 20]\n"
     ]
    }
   ],
   "source": [
    "# Assignment 1: Creating and Accessing Lists\n",
    "int_list = list(range(1, 21))\n",
    "print(int_list)"
   ]
  },
  {
   "cell_type": "code",
   "execution_count": 2,
   "id": "9621ae14",
   "metadata": {},
   "outputs": [
    {
     "name": "stdout",
     "output_type": "stream",
     "text": [
      "First element: 1\n",
      "Middle element: 11\n",
      "Last element: 20\n"
     ]
    }
   ],
   "source": [
    "# Assignment 2: Accessing List Elements\n",
    "print(f\"First element: {int_list[0]}\")\n",
    "middle_index = len(int_list) // 2\n",
    "print(f\"Middle element: {int_list[middle_index]}\")\n",
    "print(f\"Last element: {int_list[-1]}\")"
   ]
  },
  {
   "cell_type": "code",
   "execution_count": 3,
   "id": "4f134d35",
   "metadata": {},
   "outputs": [
    {
     "name": "stdout",
     "output_type": "stream",
     "text": [
      "First five elements: [1, 2, 3, 4, 5]\n",
      "Last five elements: [16, 17, 18, 19, 20]\n",
      "Elements from index 5 to 15: [6, 7, 8, 9, 10, 11, 12, 13, 14, 15, 16]\n"
     ]
    }
   ],
   "source": [
    "# Assignment 3: List Slicing\n",
    "print(f\"First five elements: {int_list[:5]}\")\n",
    "print(f\"Last five elements: {int_list[-5:]}\")\n",
    "print(f\"Elements from index 5 to 15: {int_list[5:16]}\")"
   ]
  },
  {
   "cell_type": "code",
   "execution_count": 4,
   "id": "968ca8c9",
   "metadata": {},
   "outputs": [
    {
     "name": "stdout",
     "output_type": "stream",
     "text": [
      "[1, 4, 9, 16, 25, 36, 49, 64, 81, 100]\n"
     ]
    }
   ],
   "source": [
    "# Assignment 4: List Comprehensions\n",
    "squares_list = [i ** 2 for i in range(1, 11)]\n",
    "print(squares_list)"
   ]
  },
  {
   "cell_type": "code",
   "execution_count": 5,
   "id": "e4da3753",
   "metadata": {},
   "outputs": [
    {
     "name": "stdout",
     "output_type": "stream",
     "text": [
      "[2, 4, 6, 8, 10, 12, 14, 16, 18, 20]\n"
     ]
    }
   ],
   "source": [
    "# Assignment 5: Filtering Lists\n",
    "even_numbers = [i for i in int_list if i % 2 == 0]\n",
    "print(even_numbers)"
   ]
  },
  {
   "cell_type": "code",
   "execution_count": 6,
   "id": "c7ab14d5",
   "metadata": {},
   "outputs": [
    {
     "name": "stdout",
     "output_type": "stream",
     "text": [
      "Sorted in ascending order: [9, 10, 14, 20, 45, 47, 48, 52, 60, 69, 82, 87, 91, 92, 99]\n",
      "Sorted in descending order: [99, 92, 91, 87, 82, 69, 60, 52, 48, 47, 45, 20, 14, 10, 9]\n",
      "List without duplicates: [99, 69, 9, 10, 45, 60, 47, 48, 14, 82, 52, 20, 87, 91, 92]\n"
     ]
    }
   ],
   "source": [
    "# Assignment 6: List Methods\n",
    "import random\n",
    "random_list = random.sample(range(1, 101), 15)\n",
    "random_list.sort()\n",
    "print(f\"Sorted in ascending order: {random_list}\")\n",
    "random_list.sort(reverse=True)\n",
    "print(f\"Sorted in descending order: {random_list}\")\n",
    "# Remove duplicates using set\n",
    "unique_list = list(set(random_list))\n",
    "print(f\"List without duplicates: {unique_list}\")"
   ]
  },
  {
   "cell_type": "code",
   "execution_count": 7,
   "id": "85604bc4",
   "metadata": {},
   "outputs": [
    {
     "name": "stdout",
     "output_type": "stream",
     "text": [
      "Matrix:\n",
      "[1, 2, 3]\n",
      "[4, 5, 6]\n",
      "[7, 8, 9]\n",
      "Element at second row and third column: 6\n"
     ]
    }
   ],
   "source": [
    "# Assignment 7: Nested Lists\n",
    "matrix = [\n",
    "    [1, 2, 3],\n",
    "    [4, 5, 6],\n",
    "    [7, 8, 9]\n",
    "]\n",
    "print(\"Matrix:\")\n",
    "for row in matrix:\n",
    "    print(row)\n",
    "\n",
    "# Access element at second row and third column\n",
    "print(f\"Element at second row and third column: {matrix[1][2]}\")"
   ]
  },
  {
   "cell_type": "code",
   "execution_count": 8,
   "id": "b06d614c",
   "metadata": {},
   "outputs": [
    {
     "name": "stdout",
     "output_type": "stream",
     "text": [
      "Sorted students by score (descending): [{'name': 'Alice', 'score': 92}, {'name': 'John', 'score': 85}, {'name': 'Bob', 'score': 78}]\n"
     ]
    }
   ],
   "source": [
    "# Assignment 8: List of Dictionaries\n",
    "students = [\n",
    "    {'name': 'John', 'score': 85},\n",
    "    {'name': 'Alice', 'score': 92},\n",
    "    {'name': 'Bob', 'score': 78}\n",
    "]\n",
    "sorted_students = sorted(students, key=lambda x: x['score'], reverse=True)\n",
    "print(\"Sorted students by score (descending):\", sorted_students)"
   ]
  },
  {
   "cell_type": "code",
   "execution_count": 9,
   "id": "1191bb17",
   "metadata": {},
   "outputs": [
    {
     "name": "stdout",
     "output_type": "stream",
     "text": [
      "Original matrix: [[1, 2, 3], [4, 5, 6], [7, 8, 9]]\n",
      "Transposed matrix: [[1, 4, 7], [2, 5, 8], [3, 6, 9]]\n"
     ]
    }
   ],
   "source": [
    "# Assignment 9: Matrix Transposition\n",
    "def transpose_matrix(matrix):\n",
    "    return [[matrix[j][i] for j in range(len(matrix))] for i in range(len(matrix[0]))]\n",
    "\n",
    "matrix = [\n",
    "    [1, 2, 3],\n",
    "    [4, 5, 6],\n",
    "    [7, 8, 9]\n",
    "]\n",
    "transposed = transpose_matrix(matrix)\n",
    "print(\"Original matrix:\", matrix)\n",
    "print(\"Transposed matrix:\", transposed)"
   ]
  },
  {
   "cell_type": "code",
   "execution_count": 10,
   "id": "2c49c5e7",
   "metadata": {},
   "outputs": [
    {
     "name": "stdout",
     "output_type": "stream",
     "text": [
      "Original list: [[1, 2], [3, 4], [5, 6]]\n",
      "Flattened list: [1, 2, 3, 4, 5, 6]\n"
     ]
    }
   ],
   "source": [
    "# Assignment 10: Flattening a Nested List\n",
    "def flatten_list(nested_list):\n",
    "    return [item for sublist in nested_list for item in sublist]\n",
    "\n",
    "nested_list = [[1, 2], [3, 4], [5, 6]]\n",
    "flattened_list = flatten_list(nested_list)\n",
    "print(\"Original list:\", nested_list)\n",
    "print(\"Flattened list:\", flattened_list)"
   ]
  },
  {
   "cell_type": "code",
   "execution_count": 11,
   "id": "9061a871",
   "metadata": {},
   "outputs": [
    {
     "name": "stdout",
     "output_type": "stream",
     "text": [
      "[1, 2, 4, 6, 8, 99, 9, 10]\n"
     ]
    }
   ],
   "source": [
    "# Assignment 11: List Manipulation\n",
    "num_list = list(range(1, 11))\n",
    "del num_list[2], num_list[3], num_list[4]  # Deleting at adjusted indices\n",
    "num_list.insert(5, 99)\n",
    "print(num_list)"
   ]
  },
  {
   "cell_type": "code",
   "execution_count": 12,
   "id": "c6969d3b",
   "metadata": {},
   "outputs": [
    {
     "name": "stdout",
     "output_type": "stream",
     "text": [
      "[(1, 'a'), (2, 'b'), (3, 'c'), (4, 'd')]\n"
     ]
    }
   ],
   "source": [
    "# Assignment 12: List Zipping\n",
    "list1 = [1, 2, 3, 4]\n",
    "list2 = ['a', 'b', 'c', 'd']\n",
    "zipped_list = list(zip(list1, list2))\n",
    "print(zipped_list)"
   ]
  },
  {
   "cell_type": "code",
   "execution_count": 13,
   "id": "8a60ab51",
   "metadata": {},
   "outputs": [
    {
     "name": "stdout",
     "output_type": "stream",
     "text": [
      "Original list: [1, 2, 3, 4, 5]\n",
      "Reversed list: [5, 4, 3, 2, 1]\n"
     ]
    }
   ],
   "source": [
    "# Assignment 13: List Reversal\n",
    "def reverse_list(lst):\n",
    "    return lst[::-1]\n",
    "\n",
    "original_list = [1, 2, 3, 4, 5]\n",
    "reversed_list = reverse_list(original_list)\n",
    "print(\"Original list:\", original_list)\n",
    "print(\"Reversed list:\", reversed_list)"
   ]
  },
  {
   "cell_type": "code",
   "execution_count": 14,
   "id": "ae044bdc",
   "metadata": {},
   "outputs": [
    {
     "name": "stdout",
     "output_type": "stream",
     "text": [
      "Original list: [1, 2, 3, 4, 5]\n",
      "Rotated list: [3, 4, 5, 1, 2]\n"
     ]
    }
   ],
   "source": [
    "# Assignment 14: List Rotation\n",
    "def rotate_list(lst, n):\n",
    "    return lst[n:] + lst[:n]\n",
    "\n",
    "original_list = [1, 2, 3, 4, 5]\n",
    "rotated_list = rotate_list(original_list, 2)\n",
    "print(\"Original list:\", original_list)\n",
    "print(\"Rotated list:\", rotated_list)"
   ]
  },
  {
   "cell_type": "code",
   "execution_count": 15,
   "id": "8d8c4858",
   "metadata": {},
   "outputs": [
    {
     "name": "stdout",
     "output_type": "stream",
     "text": [
      "Intersected list: [4, 5]\n"
     ]
    }
   ],
   "source": [
    "# Assignment 15: List Intersection\n",
    "def list_intersection(list1, list2):\n",
    "    return [item for item in list1 if item in list2]\n",
    "\n",
    "list1 = [1, 2, 3, 4, 5]\n",
    "list2 = [4, 5, 6, 7, 8]\n",
    "intersection = list_intersection(list1, list2)\n",
    "print(\"Intersected list:\", intersection)"
   ]
  }
 ],
 "metadata": {
  "kernelspec": {
   "display_name": "Python 3 (ipykernel)",
   "language": "python",
   "name": "python3"
  },
  "language_info": {
   "codemirror_mode": {
    "name": "ipython",
    "version": 3
   },
   "file_extension": ".py",
   "mimetype": "text/x-python",
   "name": "python",
   "nbconvert_exporter": "python",
   "pygments_lexer": "ipython3",
   "version": "3.9.13"
  }
 },
 "nbformat": 4,
 "nbformat_minor": 5
}
