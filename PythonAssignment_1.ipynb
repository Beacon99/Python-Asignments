{
 "cells": [
  {
   "cell_type": "code",
   "execution_count": 1,
   "id": "b60e5f66-7bc2-4033-9e7f-0f8ab4d3c40c",
   "metadata": {},
   "outputs": [
    {
     "name": "stdin",
     "output_type": "stream",
     "text": [
      "Enter no.a : 22\n",
      "Enter no.b : 33\n"
     ]
    },
    {
     "name": "stdout",
     "output_type": "stream",
     "text": [
      "Swapped value for a: 33\n",
      "Swapped value for b: 22\n"
     ]
    }
   ],
   "source": [
    "#Part 1:\n",
    "#Q1- x=10\n",
    "#Q2- String\n",
    "#Q3- int\n",
    "#Q4- bool\n",
    "#Q5- 2\n",
    "#Q6- float\n",
    "#Q7- A variable name can not contain spaces.\n",
    "#Q8- Returns the data type of variable.\n",
    "# Q9- HelloHelloHelloHelloHelloHelloHelloHelloHelloHello\n",
    "# Q10- decimal\n",
    "\n",
    "#Part 2:\n",
    "#Q11 - Variables in pyhton is nothing much but the address where the data is stored. \n",
    "#       It can only start with alphabet or underscore.\n",
    "#       eg. x=10 <x is variable here>\n",
    "#Q12 - Mutable Data Types are those which can be Changable, eg. List,Set,Dictionary\n",
    "#      Immutable Data Types are those which are Unchangable, eg. Tuple,String.\n",
    "#Q13 - Rules for naming variables in Python.\n",
    "       # a) It should not contain any space.\n",
    "       # b) Always start with alphabet or underscore.\n",
    "       # c) These are case sensitive.\n",
    "#Q14 - To check data type we use type() function.\n",
    "#Q15 - It is a way of predefing a data type in a variable.\n",
    "       # Restricting user to use only specific data type.\n",
    "       # eg. Height=float(input())\n",
    "#Q16 -    = refers to allocation\n",
    "       # == refers to congruency\n",
    "#Q17 - There are mainly three data types in Python. i.e. : str,int,float,boollean.\n",
    "       # examples:\n",
    "       #  str = \"Utkarsh\"\n",
    "       #  int = 250\n",
    "       #  float = 2.50\n",
    "       #  boollean = 0 or 1 , True or False\n",
    "#Q18 - Purpose of None Data type in Python is to define a NUll Value.\n",
    "#Q19 - Strings can be declared using \"\" or '' symbol. \n",
    "#Q20 - input() = Use to ask value from user.\n",
    "        # print() = Predefine Function, NEver tell data type.\n",
    "        \n",
    "        #Part 3: Programming Questions\n",
    "#Q21-\n",
    "a=int(input('Enter no.a :'))\n",
    "b=int(input('Enter no.b :'))\n",
    "temp=a\n",
    "a=b\n",
    "b=temp\n",
    "print(\"Swapped value for a:\",a)\n",
    "print(\"Swapped value for b:\",b)"
   ]
  },
  {
   "cell_type": "code",
   "execution_count": 3,
   "id": "9487c352-d898-47c1-acee-7b03988bf58d",
   "metadata": {},
   "outputs": [
    {
     "name": "stdin",
     "output_type": "stream",
     "text": [
      "Please enter the area of circle in cm: 22\n"
     ]
    },
    {
     "name": "stdout",
     "output_type": "stream",
     "text": [
      "Area of circle: 1521.142857142857\n"
     ]
    }
   ],
   "source": [
    "#Q22-\n",
    "radius=int(input(\"Please enter the area of circle in cm:\"))\n",
    "area=(22/7)*(radius*radius)\n",
    "print(\"Area of circle:\",area)"
   ]
  },
  {
   "cell_type": "code",
   "execution_count": 5,
   "id": "03312fb9-d9e3-4765-98f0-21862fff0482",
   "metadata": {},
   "outputs": [
    {
     "name": "stdout",
     "output_type": "stream",
     "text": [
      " the remainder when a is divided by b: 7\n"
     ]
    }
   ],
   "source": [
    "#Q23-\n",
    "a=15\n",
    "b=8\n",
    "remainder = a % b\n",
    "print(\" the remainder when a is divided by b:\",remainder)"
   ]
  },
  {
   "cell_type": "code",
   "execution_count": 16,
   "id": "38296e46-b7e1-4c04-92fc-781b34960e1a",
   "metadata": {},
   "outputs": [
    {
     "name": "stdin",
     "output_type": "stream",
     "text": [
      "Please enter a string: Utkarsh\n"
     ]
    },
    {
     "name": "stdout",
     "output_type": "stream",
     "text": [
      "The length of the string is: 7\n"
     ]
    }
   ],
   "source": [
    "#Q24-\n",
    "string=input(\"Please enter a string:\")\n",
    "length = 0\n",
    "for char in string :\n",
    "  length = length+1\n",
    "print(f\"The length of the string is: {length}\")\n"
   ]
  },
  {
   "cell_type": "code",
   "execution_count": 9,
   "id": "fe822f36-c5e2-48c3-8481-708b4da6a3ca",
   "metadata": {},
   "outputs": [
    {
     "name": "stdin",
     "output_type": "stream",
     "text": [
      "Please enter a number: 23\n"
     ]
    },
    {
     "name": "stdout",
     "output_type": "stream",
     "text": [
      "It's an odd number i.e. 23\n"
     ]
    }
   ],
   "source": [
    "#Q25-\n",
    "num=int(input(\"Please enter a number:\"))\n",
    "dev=num%2\n",
    "if dev==0:\n",
    "  print(\"It's an even number i.e.\",num)\n",
    "else:\n",
    "  print(\"It's an odd number i.e.\",num)"
   ]
  },
  {
   "cell_type": "code",
   "execution_count": null,
   "id": "5e480552-88a8-45e5-951f-a7a8eeca9c12",
   "metadata": {},
   "outputs": [],
   "source": []
  }
 ],
 "metadata": {
  "kernelspec": {
   "display_name": "Python 3 (ipykernel)",
   "language": "python",
   "name": "python3"
  },
  "language_info": {
   "codemirror_mode": {
    "name": "ipython",
    "version": 3
   },
   "file_extension": ".py",
   "mimetype": "text/x-python",
   "name": "python",
   "nbconvert_exporter": "python",
   "pygments_lexer": "ipython3",
   "version": "3.12.4"
  }
 },
 "nbformat": 4,
 "nbformat_minor": 5
}
