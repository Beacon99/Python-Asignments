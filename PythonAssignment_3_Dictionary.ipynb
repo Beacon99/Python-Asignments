{
 "cells": [
  {
   "cell_type": "markdown",
   "id": "cf4a6f96",
   "metadata": {},
   "source": [
    "# Dictionary Assignments"
   ]
  },
  {
   "cell_type": "markdown",
   "id": "937dd999",
   "metadata": {},
   "source": [
    "### Assignment 1: Creating and Accessing Dictionaries"
   ]
  },
  {
   "cell_type": "code",
   "execution_count": 1,
   "id": "ad83b54e",
   "metadata": {},
   "outputs": [
    {
     "name": "stdout",
     "output_type": "stream",
     "text": [
      "{1: 1, 2: 4, 3: 9, 4: 16, 5: 25, 6: 36, 7: 49, 8: 64, 9: 81, 10: 100}\n"
     ]
    }
   ],
   "source": [
    "squares_dict = {i: i ** 2 for i in range(1, 11)}\n",
    "print(squares_dict)"
   ]
  },
  {
   "cell_type": "markdown",
   "id": "bb7e94d1",
   "metadata": {},
   "source": [
    "### Assignment 2: Accessing Dictionary Elements"
   ]
  },
  {
   "cell_type": "code",
   "execution_count": 2,
   "id": "61f06f6c",
   "metadata": {},
   "outputs": [
    {
     "name": "stdout",
     "output_type": "stream",
     "text": [
      "Value of key 5: 25\n",
      "Keys in the dictionary: dict_keys([1, 2, 3, 4, 5, 6, 7, 8, 9, 10])\n"
     ]
    }
   ],
   "source": [
    "print(f\"Value of key 5: {squares_dict[5]}\")\n",
    "print(\"Keys in the dictionary:\", squares_dict.keys())"
   ]
  },
  {
   "cell_type": "markdown",
   "id": "3a766d5d",
   "metadata": {},
   "source": [
    "### Assignment 3: Dictionary Methods"
   ]
  },
  {
   "cell_type": "code",
   "execution_count": 3,
   "id": "94906ba7",
   "metadata": {},
   "outputs": [
    {
     "name": "stdout",
     "output_type": "stream",
     "text": [
      "{2: 4, 3: 9, 4: 16, 5: 25, 6: 36, 7: 49, 8: 64, 9: 81, 10: 100, 11: 121}\n"
     ]
    }
   ],
   "source": [
    "squares_dict[11] = 121\n",
    "del squares_dict[1]\n",
    "print(squares_dict)"
   ]
  },
  {
   "cell_type": "markdown",
   "id": "3ec53d9b",
   "metadata": {},
   "source": [
    "### Assignment 4: Iterating Over Dictionaries"
   ]
  },
  {
   "cell_type": "code",
   "execution_count": 4,
   "id": "683fdbc2",
   "metadata": {},
   "outputs": [
    {
     "name": "stdout",
     "output_type": "stream",
     "text": [
      "Key: 2, Value: 4\n",
      "Key: 3, Value: 9\n",
      "Key: 4, Value: 16\n",
      "Key: 5, Value: 25\n",
      "Key: 6, Value: 36\n",
      "Key: 7, Value: 49\n",
      "Key: 8, Value: 64\n",
      "Key: 9, Value: 81\n",
      "Key: 10, Value: 100\n",
      "Key: 11, Value: 121\n"
     ]
    }
   ],
   "source": [
    "for key, value in squares_dict.items():\n",
    "    print(f\"Key: {key}, Value: {value}\")"
   ]
  },
  {
   "cell_type": "markdown",
   "id": "4af968c5",
   "metadata": {},
   "source": [
    "### Assignment 5: Dictionary Comprehensions"
   ]
  },
  {
   "cell_type": "code",
   "execution_count": 5,
   "id": "ee108ba0",
   "metadata": {},
   "outputs": [
    {
     "name": "stdout",
     "output_type": "stream",
     "text": [
      "{1: 1, 2: 8, 3: 27, 4: 64, 5: 125, 6: 216, 7: 343, 8: 512, 9: 729, 10: 1000}\n"
     ]
    }
   ],
   "source": [
    "cubes_dict = {i: i ** 3 for i in range(1, 11)}\n",
    "print(cubes_dict)"
   ]
  },
  {
   "cell_type": "markdown",
   "id": "f0a9428a",
   "metadata": {},
   "source": [
    "### Assignment 6: Merging Dictionaries"
   ]
  },
  {
   "cell_type": "code",
   "execution_count": 6,
   "id": "885f6ac1",
   "metadata": {},
   "outputs": [
    {
     "name": "stdout",
     "output_type": "stream",
     "text": [
      "{1: 1, 2: 4, 3: 9, 4: 16, 5: 25, 6: 36, 7: 49, 8: 64, 9: 81, 10: 100}\n"
     ]
    }
   ],
   "source": [
    "dict1 = {i: i ** 2 for i in range(1, 6)}\n",
    "dict2 = {i: i ** 2 for i in range(6, 11)}\n",
    "merged_dict = {**dict1, **dict2}\n",
    "print(merged_dict)"
   ]
  },
  {
   "cell_type": "markdown",
   "id": "0bed788c",
   "metadata": {},
   "source": [
    "### Assignment 7: Nested Dictionaries"
   ]
  },
  {
   "cell_type": "code",
   "execution_count": 7,
   "id": "af674a9a",
   "metadata": {},
   "outputs": [
    {
     "name": "stdout",
     "output_type": "stream",
     "text": [
      "{'name': 'John Doe', 'age': 20, 'grades': {'math': 90, 'science': 85, 'english': 88}}\n"
     ]
    }
   ],
   "source": [
    "student = {\n",
    "    'name': 'John Doe',\n",
    "    'age': 20,\n",
    "    'grades': {\n",
    "        'math': 90,\n",
    "        'science': 85,\n",
    "        'english': 88\n",
    "    }\n",
    "}\n",
    "print(student)"
   ]
  },
  {
   "cell_type": "markdown",
   "id": "cbcaf010",
   "metadata": {},
   "source": [
    "### Assignment 8: Dictionary of Lists"
   ]
  },
  {
   "cell_type": "code",
   "execution_count": 8,
   "id": "e08d0c1e",
   "metadata": {},
   "outputs": [
    {
     "name": "stdout",
     "output_type": "stream",
     "text": [
      "{1: [1, 2, 3, 4, 5], 2: [2, 4, 6, 8, 10], 3: [3, 6, 9, 12, 15], 4: [4, 8, 12, 16, 20], 5: [5, 10, 15, 20, 25]}\n"
     ]
    }
   ],
   "source": [
    "multiples_dict = {i: [i * j for j in range(1, 6)] for i in range(1, 6)}\n",
    "print(multiples_dict)"
   ]
  },
  {
   "cell_type": "markdown",
   "id": "2058f88a",
   "metadata": {},
   "source": [
    "### Assignment 9: Dictionary of Tuples"
   ]
  },
  {
   "cell_type": "code",
   "execution_count": 9,
   "id": "df9b65f9",
   "metadata": {},
   "outputs": [
    {
     "name": "stdout",
     "output_type": "stream",
     "text": [
      "{1: (1, 1), 2: (2, 4), 3: (3, 9), 4: (4, 16), 5: (5, 25)}\n"
     ]
    }
   ],
   "source": [
    "tuples_dict = {i: (i, i ** 2) for i in range(1, 6)}\n",
    "print(tuples_dict)"
   ]
  },
  {
   "cell_type": "markdown",
   "id": "cdd4144e",
   "metadata": {},
   "source": [
    "### Assignment 10: Dictionary and List Conversion"
   ]
  },
  {
   "cell_type": "code",
   "execution_count": 10,
   "id": "8dda3d50",
   "metadata": {},
   "outputs": [
    {
     "name": "stdout",
     "output_type": "stream",
     "text": [
      "[(1, 1), (2, 4), (3, 9), (4, 16), (5, 25)]\n"
     ]
    }
   ],
   "source": [
    "squares_dict = {i: i ** 2 for i in range(1, 6)}\n",
    "tuples_list = list(squares_dict.items())\n",
    "print(tuples_list)"
   ]
  },
  {
   "cell_type": "markdown",
   "id": "57d3d034",
   "metadata": {},
   "source": [
    "### Assignment 11: Dictionary Filtering"
   ]
  },
  {
   "cell_type": "code",
   "execution_count": 11,
   "id": "cad30036",
   "metadata": {},
   "outputs": [
    {
     "name": "stdout",
     "output_type": "stream",
     "text": [
      "{2: 4, 4: 16}\n"
     ]
    }
   ],
   "source": [
    "filtered_dict = {k: v for k, v in squares_dict.items() if k % 2 == 0}\n",
    "print(filtered_dict)"
   ]
  },
  {
   "cell_type": "markdown",
   "id": "dbfa32bb",
   "metadata": {},
   "source": [
    "### Assignment 12: Dictionary Key and Value Transformation"
   ]
  },
  {
   "cell_type": "code",
   "execution_count": 12,
   "id": "8157780c",
   "metadata": {},
   "outputs": [
    {
     "name": "stdout",
     "output_type": "stream",
     "text": [
      "{1: 1, 4: 2, 9: 3, 16: 4, 25: 5}\n"
     ]
    }
   ],
   "source": [
    "swapped_dict = {v: k for k, v in squares_dict.items()}\n",
    "print(swapped_dict)"
   ]
  },
  {
   "cell_type": "markdown",
   "id": "58efb976",
   "metadata": {},
   "source": [
    "### Assignment 13: Default Dictionary"
   ]
  },
  {
   "cell_type": "code",
   "execution_count": 13,
   "id": "ffb61a57",
   "metadata": {},
   "outputs": [
    {
     "name": "stdout",
     "output_type": "stream",
     "text": [
      "defaultdict(<class 'list'>, {1: [1, 2, 3], 2: [4, 5]})\n"
     ]
    }
   ],
   "source": [
    "from collections import defaultdict\n",
    "\n",
    "default_dict = defaultdict(list)\n",
    "default_dict[1].extend([1, 2, 3])\n",
    "default_dict[2].extend([4, 5])\n",
    "print(default_dict)"
   ]
  },
  {
   "cell_type": "markdown",
   "id": "399aff36",
   "metadata": {},
   "source": [
    "### Assignment 14: Counting with Dictionaries"
   ]
  },
  {
   "cell_type": "code",
   "execution_count": 14,
   "id": "d83f6967",
   "metadata": {},
   "outputs": [
    {
     "name": "stdout",
     "output_type": "stream",
     "text": [
      "{'h': 1, 'e': 1, 'l': 3, 'o': 2, ' ': 1, 'w': 1, 'r': 1, 'd': 1}\n"
     ]
    }
   ],
   "source": [
    "def char_count(s):\n",
    "    count_dict = {}\n",
    "    for char in s:\n",
    "        if char in count_dict:\n",
    "            count_dict[char] += 1\n",
    "        else:\n",
    "            count_dict[char] = 1\n",
    "    return count_dict\n",
    "\n",
    "s = \"hello world\"\n",
    "print(char_count(s))"
   ]
  },
  {
   "cell_type": "markdown",
   "id": "d89e5a30",
   "metadata": {},
   "source": [
    "### Assignment 15: Dictionary and JSON"
   ]
  },
  {
   "cell_type": "code",
   "execution_count": 15,
   "id": "5e4505b2",
   "metadata": {},
   "outputs": [
    {
     "name": "stdout",
     "output_type": "stream",
     "text": [
      "{\"title\": \"To Kill a Mockingbird\", \"author\": \"Harper Lee\", \"year\": 1960, \"genre\": \"Fiction\"}\n"
     ]
    }
   ],
   "source": [
    "import json\n",
    "\n",
    "book = {\n",
    "    'title': 'To Kill a Mockingbird',\n",
    "    'author': 'Harper Lee',\n",
    "    'year': 1960,\n",
    "    'genre': 'Fiction'\n",
    "}\n",
    "\n",
    "json_string = json.dumps(book)\n",
    "print(json_string)"
   ]
  }
 ],
 "metadata": {
  "kernelspec": {
   "display_name": "Python 3 (ipykernel)",
   "language": "python",
   "name": "python3"
  },
  "language_info": {
   "codemirror_mode": {
    "name": "ipython",
    "version": 3
   },
   "file_extension": ".py",
   "mimetype": "text/x-python",
   "name": "python",
   "nbconvert_exporter": "python",
   "pygments_lexer": "ipython3",
   "version": "3.9.13"
  }
 },
 "nbformat": 4,
 "nbformat_minor": 5
}
