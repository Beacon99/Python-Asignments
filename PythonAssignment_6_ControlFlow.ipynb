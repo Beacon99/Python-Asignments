{
  "cells": [
    {
      "cell_type": "markdown",
      "metadata": {
        "id": "li74PFi-iAqn"
      },
      "source": [
        "# Module 2: Control Flow Assignments\n",
        "## Lesson 2.1: Conditional Statements\n",
        "### Assignment 1: Simple if Statement\n",
        "\n",
        "Write a program that asks the user to input a number and prints whether the number is positive.\n",
        "\n",
        "### Assignment 2: if-else Statement\n",
        "\n",
        "Write a program that asks the user to input a number and prints whether the number is positive or negative.\n",
        "\n",
        "### Assignment 3: if-elif-else Statement\n",
        "\n",
        "Write a program that asks the user to input a number and prints whether the number is positive, negative, or zero.\n",
        "\n",
        "### Assignment 4: Nested if Statement\n",
        "\n",
        "Write a program that asks the user to input a number and prints whether the number is positive and even, positive and odd, or negative.\n",
        "\n",
        "## Lesson 2.2: Loops\n",
        "### Assignment 5: for Loop\n",
        "\n",
        "Write a program that prints all the numbers from 1 to 10 using a for loop.\n",
        "\n",
        "### Assignment 6: while Loop\n",
        "\n",
        "Write a program that prints all the numbers from 1 to 10 using a while loop.\n",
        "\n",
        "### Assignment 7: Nested Loops\n",
        "\n",
        "Write a program that prints a 5x5 grid of asterisks (*) using nested loops.\n",
        "\n",
        "### Assignment 8: break Statement\n",
        "\n",
        "Write a program that asks the user to input numbers until they input 0. The program should print the sum of all the input numbers.\n",
        "\n",
        "### Assignment 9: continue Statement\n",
        "\n",
        "Write a program that prints all the numbers from 1 to 10 except 5 using a for loop and continue statement.\n",
        "\n",
        "### Assignment 10: pass Statement\n",
        "\n",
        "Write a program that defines an empty function using the pass statement.\n",
        "\n",
        "### Assignment 11: Combining Loops and Conditionals\n",
        "\n",
        "Write a program that asks the user to input a number and prints all the even numbers from 1 to that number using a for loop.\n",
        "\n",
        "### Assignment 12: Factorial Calculation\n",
        "\n",
        "Write a program that calculates the factorial of a number input by the user using a while loop.\n",
        "\n",
        "### Assignment 13: Sum of Digits\n",
        "\n",
        "Write a program that calculates the sum of the digits of a number input by the user using a while loop.\n",
        "\n",
        "### Assignment 14: Prime Number Check\n",
        "\n",
        "Write a program that checks if a number input by the user is a prime number using a for loop.\n",
        "\n",
        "### Assignment 15: Fibonacci Sequence\n",
        "\n",
        "Write a program that prints the first n Fibonacci numbers, where n is input by the user."
      ],
      "id": "li74PFi-iAqn"
    },
    {
      "cell_type": "code",
      "source": [
        "# Assignment 1: Simple if Statement\n",
        "number = float(input(\"Enter a number: \"))\n",
        "if number > 0:\n",
        "    print(f\"{number} is positive.\")"
      ],
      "metadata": {
        "id": "mTBVTaSCkLsv",
        "colab": {
          "base_uri": "https://localhost:8080/"
        },
        "outputId": "f4c7776c-9d88-4967-9493-5d28087746cb"
      },
      "id": "mTBVTaSCkLsv",
      "execution_count": 1,
      "outputs": [
        {
          "output_type": "stream",
          "name": "stdout",
          "text": [
            "Enter a number: 6\n",
            "6.0 is positive.\n"
          ]
        }
      ]
    },
    {
      "cell_type": "code",
      "source": [
        "# Assignment 2: if-else Statement\n",
        "number = float(input(\"Enter a number: \"))\n",
        "if number > 0:\n",
        "    print(f\"{number} is positive.\")\n",
        "else:\n",
        "    print(f\"{number} is negative.\")"
      ],
      "metadata": {
        "id": "hpq2nXqxkOhc",
        "colab": {
          "base_uri": "https://localhost:8080/"
        },
        "outputId": "0dbed81b-06be-40ed-bcc4-064c9996f753"
      },
      "id": "hpq2nXqxkOhc",
      "execution_count": 2,
      "outputs": [
        {
          "output_type": "stream",
          "name": "stdout",
          "text": [
            "Enter a number: 5\n",
            "5.0 is positive.\n"
          ]
        }
      ]
    },
    {
      "cell_type": "code",
      "source": [
        "# Assignment 3: if-elif-else Statement\n",
        "number = float(input(\"Enter a number: \"))\n",
        "if number > 0:\n",
        "    print(f\"{number} is positive.\")\n",
        "elif number < 0:\n",
        "    print(f\"{number} is negative.\")\n",
        "else:\n",
        "    print(f\"{number} is zero.\")"
      ],
      "metadata": {
        "id": "X3V-fnwUkQSY",
        "colab": {
          "base_uri": "https://localhost:8080/"
        },
        "outputId": "8172b0ef-6b30-4352-d0a6-5e7f7fee99d1"
      },
      "id": "X3V-fnwUkQSY",
      "execution_count": 3,
      "outputs": [
        {
          "output_type": "stream",
          "name": "stdout",
          "text": [
            "Enter a number: 6\n",
            "6.0 is positive.\n"
          ]
        }
      ]
    },
    {
      "cell_type": "code",
      "source": [
        "# Assignment 4: Nested if Statement\n",
        "number = int(input(\"Enter a number: \"))\n",
        "if number > 0:\n",
        "    if number % 2 == 0:\n",
        "        print(f\"{number} is positive and even.\")\n",
        "    else:\n",
        "        print(f\"{number} is positive and odd.\")\n",
        "else:\n",
        "    print(f\"{number} is negative.\")\n"
      ],
      "metadata": {
        "id": "s8EKfAebkSVm",
        "colab": {
          "base_uri": "https://localhost:8080/"
        },
        "outputId": "439338b4-2010-45f1-ea62-e405bbea07b5"
      },
      "id": "s8EKfAebkSVm",
      "execution_count": 4,
      "outputs": [
        {
          "output_type": "stream",
          "name": "stdout",
          "text": [
            "Enter a number: 7\n",
            "7 is positive and odd.\n"
          ]
        }
      ]
    },
    {
      "cell_type": "code",
      "source": [
        "# Assignment 5: for Loop\n",
        "for i in range(1, 11):\n",
        "    print(i)"
      ],
      "metadata": {
        "id": "ppQaPSzekUhv",
        "colab": {
          "base_uri": "https://localhost:8080/"
        },
        "outputId": "49f5fc28-977b-4a29-d9b7-c2771afaf721"
      },
      "id": "ppQaPSzekUhv",
      "execution_count": 5,
      "outputs": [
        {
          "output_type": "stream",
          "name": "stdout",
          "text": [
            "1\n",
            "2\n",
            "3\n",
            "4\n",
            "5\n",
            "6\n",
            "7\n",
            "8\n",
            "9\n",
            "10\n"
          ]
        }
      ]
    },
    {
      "cell_type": "code",
      "source": [
        "# Assignment 6: while Loop\n",
        "i = 1\n",
        "while i <= 10:\n",
        "    print(i)\n",
        "    i += 1"
      ],
      "metadata": {
        "id": "UBLQjddOkXcv",
        "colab": {
          "base_uri": "https://localhost:8080/"
        },
        "outputId": "a4315ae0-3f72-462e-a784-0daa6b26980e"
      },
      "id": "UBLQjddOkXcv",
      "execution_count": 6,
      "outputs": [
        {
          "output_type": "stream",
          "name": "stdout",
          "text": [
            "1\n",
            "2\n",
            "3\n",
            "4\n",
            "5\n",
            "6\n",
            "7\n",
            "8\n",
            "9\n",
            "10\n"
          ]
        }
      ]
    },
    {
      "cell_type": "code",
      "source": [
        "# Assignment 7: Nested Loops (5x5 grid of asterisks)\n",
        "for i in range(5):\n",
        "    for j in range(5):\n",
        "        print('*', end=' ')\n",
        "    print()"
      ],
      "metadata": {
        "id": "NETsTUvokZTt",
        "colab": {
          "base_uri": "https://localhost:8080/"
        },
        "outputId": "572bc047-ad17-4bdf-86d9-bb5b6909b1c1"
      },
      "id": "NETsTUvokZTt",
      "execution_count": 7,
      "outputs": [
        {
          "output_type": "stream",
          "name": "stdout",
          "text": [
            "* * * * * \n",
            "* * * * * \n",
            "* * * * * \n",
            "* * * * * \n",
            "* * * * * \n"
          ]
        }
      ]
    },
    {
      "cell_type": "code",
      "source": [
        "# Assignment 8: break Statement (Sum of numbers until 0)\n",
        "total = 0\n",
        "while True:\n",
        "    number = int(input(\"Enter a number (0 to stop): \"))\n",
        "    if number == 0:\n",
        "        break\n",
        "    total += number\n",
        "print(f\"The sum of the numbers is {total}.\")"
      ],
      "metadata": {
        "id": "tZgzY7CQkbsg",
        "colab": {
          "base_uri": "https://localhost:8080/"
        },
        "outputId": "bb665bd0-92e6-4203-d3c2-5ccb3d2e4d2b"
      },
      "id": "tZgzY7CQkbsg",
      "execution_count": 8,
      "outputs": [
        {
          "output_type": "stream",
          "name": "stdout",
          "text": [
            "Enter a number (0 to stop): 8\n",
            "Enter a number (0 to stop): 9\n",
            "Enter a number (0 to stop): 5\n",
            "Enter a number (0 to stop): 4\n",
            "Enter a number (0 to stop): 3\n",
            "Enter a number (0 to stop): 7\n",
            "Enter a number (0 to stop): 8\n",
            "Enter a number (0 to stop): 45\n",
            "Enter a number (0 to stop): 0\n",
            "The sum of the numbers is 89.\n"
          ]
        }
      ]
    },
    {
      "cell_type": "code",
      "source": [
        "\n",
        "# Assignment 9: continue Statement (Skip 5)\n",
        "for i in range(1, 11):\n",
        "    if i == 5:\n",
        "        continue\n",
        "    print(i)"
      ],
      "metadata": {
        "id": "HVH3qTZrke8f",
        "colab": {
          "base_uri": "https://localhost:8080/"
        },
        "outputId": "c46ea223-d966-4018-eca7-f8dce36cc043"
      },
      "id": "HVH3qTZrke8f",
      "execution_count": 9,
      "outputs": [
        {
          "output_type": "stream",
          "name": "stdout",
          "text": [
            "1\n",
            "2\n",
            "3\n",
            "4\n",
            "6\n",
            "7\n",
            "8\n",
            "9\n",
            "10\n"
          ]
        }
      ]
    },
    {
      "cell_type": "code",
      "source": [
        "# Assignment 10: pass Statement\n",
        "# An empty block using pass\n",
        "if True:\n",
        "    pass"
      ],
      "metadata": {
        "id": "HitFhVhskh1J"
      },
      "id": "HitFhVhskh1J",
      "execution_count": 10,
      "outputs": []
    },
    {
      "cell_type": "code",
      "source": [
        "# Assignment 11: Combining Loops and Conditionals (Even numbers)\n",
        "n = int(input(\"Enter a number: \"))\n",
        "for i in range(1, n + 1):\n",
        "    if i % 2 == 0:\n",
        "        print(i)"
      ],
      "metadata": {
        "id": "QfXD4tBRkkIO",
        "colab": {
          "base_uri": "https://localhost:8080/"
        },
        "outputId": "a031a8fb-f25c-427c-b3ee-b344dae7fec7"
      },
      "id": "QfXD4tBRkkIO",
      "execution_count": 11,
      "outputs": [
        {
          "output_type": "stream",
          "name": "stdout",
          "text": [
            "Enter a number: 7\n",
            "2\n",
            "4\n",
            "6\n"
          ]
        }
      ]
    },
    {
      "cell_type": "code",
      "source": [
        "# Assignment 12: Factorial Calculation (while loop)\n",
        "number = int(input(\"Enter a number: \"))\n",
        "factorial = 1\n",
        "while number > 1:\n",
        "    factorial *= number\n",
        "    number -= 1\n",
        "print(f\"The factorial is {factorial}.\")"
      ],
      "metadata": {
        "id": "SXCJD7UrkmbK",
        "colab": {
          "base_uri": "https://localhost:8080/"
        },
        "outputId": "83a40c2c-7c0b-4eec-a386-cd48358d852b"
      },
      "id": "SXCJD7UrkmbK",
      "execution_count": 12,
      "outputs": [
        {
          "output_type": "stream",
          "name": "stdout",
          "text": [
            "Enter a number: 7\n",
            "The factorial is 5040.\n"
          ]
        }
      ]
    },
    {
      "cell_type": "code",
      "source": [
        "# Assignment 13: Sum of Digits\n",
        "number = int(input(\"Enter a number: \"))\n",
        "total = 0\n",
        "while number > 0:\n",
        "    total += number % 10\n",
        "    number //= 10\n",
        "print(f\"The sum of the digits is {total}.\")"
      ],
      "metadata": {
        "id": "f1lWvi2Vkq6U",
        "colab": {
          "base_uri": "https://localhost:8080/"
        },
        "outputId": "3f4ff7e9-0f5a-45bc-a4a2-e78feb5c0bf2"
      },
      "id": "f1lWvi2Vkq6U",
      "execution_count": 13,
      "outputs": [
        {
          "output_type": "stream",
          "name": "stdout",
          "text": [
            "Enter a number: 8\n",
            "The sum of the digits is 8.\n"
          ]
        }
      ]
    },
    {
      "cell_type": "code",
      "source": [
        "# Assignment 14: Prime Number Check\n",
        "number = int(input(\"Enter a number: \"))\n",
        "if number < 2:\n",
        "    print(f\"{number} is not a prime number.\")\n",
        "else:\n",
        "    is_prime = True\n",
        "    for i in range(2, int(number**0.5) + 1):\n",
        "        if number % i == 0:\n",
        "            is_prime = False\n",
        "            break\n",
        "    if is_prime:\n",
        "        print(f\"{number} is a prime number.\")\n",
        "    else:\n",
        "        print(f\"{number} is not a prime number.\")"
      ],
      "metadata": {
        "id": "Vl2f9IajktPb",
        "colab": {
          "base_uri": "https://localhost:8080/"
        },
        "outputId": "b493234c-b050-4a6a-aaa3-c58fff0484c8"
      },
      "id": "Vl2f9IajktPb",
      "execution_count": 14,
      "outputs": [
        {
          "output_type": "stream",
          "name": "stdout",
          "text": [
            "Enter a number: 4\n",
            "4 is not a prime number.\n"
          ]
        }
      ]
    },
    {
      "cell_type": "code",
      "source": [
        "# Assignment 15: Fibonacci Sequence\n",
        "n = int(input(\"Enter the number of Fibonacci numbers to print: \"))\n",
        "a, b = 0, 1\n",
        "for _ in range(n):\n",
        "    print(a, end=' ')\n",
        "    a, b = b, a + b\n",
        "print()"
      ],
      "metadata": {
        "id": "sePvJZyfkwBJ",
        "colab": {
          "base_uri": "https://localhost:8080/"
        },
        "outputId": "8a96f33e-9579-4566-8e6a-9a38a8f7b98c"
      },
      "id": "sePvJZyfkwBJ",
      "execution_count": 15,
      "outputs": [
        {
          "output_type": "stream",
          "name": "stdout",
          "text": [
            "Enter the number of Fibonacci numbers to print: 5\n",
            "0 1 1 2 3 \n"
          ]
        }
      ]
    },
    {
      "cell_type": "code",
      "execution_count": 15,
      "metadata": {
        "id": "xVm8vcLPiAqo"
      },
      "outputs": [],
      "source": [],
      "id": "xVm8vcLPiAqo"
    }
  ],
  "metadata": {
    "kernelspec": {
      "display_name": "Python 3",
      "language": "python",
      "name": "python3"
    },
    "language_info": {
      "codemirror_mode": {
        "name": "ipython",
        "version": 3
      },
      "file_extension": ".py",
      "mimetype": "text/x-python",
      "name": "python",
      "nbconvert_exporter": "python",
      "pygments_lexer": "ipython3",
      "version": "3.9.7"
    },
    "colab": {
      "provenance": []
    }
  },
  "nbformat": 4,
  "nbformat_minor": 5
}