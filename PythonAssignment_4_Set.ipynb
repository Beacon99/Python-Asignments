{
 "cells": [
  {
   "cell_type": "code",
   "execution_count": 1,
   "id": "d4a86d00",
   "metadata": {},
   "outputs": [
    {
     "name": "stdout",
     "output_type": "stream",
     "text": [
      "{1, 2, 3, 4, 5, 6, 7, 8, 9, 10}\n"
     ]
    }
   ],
   "source": [
    "num_set = set(range(1, 11))\n",
    "print(num_set)"
   ]
  },
  {
   "cell_type": "code",
   "execution_count": 2,
   "id": "f9db96c6",
   "metadata": {},
   "outputs": [
    {
     "name": "stdout",
     "output_type": "stream",
     "text": [
      "{2, 3, 4, 5, 6, 7, 8, 9, 10, 11}\n"
     ]
    }
   ],
   "source": [
    "num_set.add(11)\n",
    "num_set.remove(1)\n",
    "print(num_set)"
   ]
  },
  {
   "cell_type": "code",
   "execution_count": 3,
   "id": "e6fe3112",
   "metadata": {},
   "outputs": [
    {
     "name": "stdout",
     "output_type": "stream",
     "text": [
      "Union: {1, 2, 3, 4, 5, 6, 8, 10}\n",
      "Intersection: {2, 4}\n",
      "Difference (set1 - set2): {1, 3, 5}\n",
      "Symmetric difference: {1, 3, 5, 6, 8, 10}\n"
     ]
    }
   ],
   "source": [
    "set1 = set(range(1, 6))  \n",
    "set2 = set(range(2, 11, 2))\n",
    "print(\"Union:\", set1.union(set2))\n",
    "print(\"Intersection:\", set1.intersection(set2))\n",
    "print(\"Difference (set1 - set2):\", set1.difference(set2))\n",
    "print(\"Symmetric difference:\", set1.symmetric_difference(set2))"
   ]
  },
  {
   "cell_type": "code",
   "execution_count": 4,
   "id": "dc044948",
   "metadata": {},
   "outputs": [
    {
     "name": "stdout",
     "output_type": "stream",
     "text": [
      "{64, 1, 4, 36, 100, 9, 16, 49, 81, 25}\n"
     ]
    }
   ],
   "source": [
    "squares_set = {i ** 2 for i in range(1, 11)}\n",
    "print(squares_set)"
   ]
  },
  {
   "cell_type": "code",
   "execution_count": 5,
   "id": "7f8d6872",
   "metadata": {},
   "outputs": [
    {
     "name": "stdout",
     "output_type": "stream",
     "text": [
      "{2, 4, 6, 8, 10}\n"
     ]
    }
   ],
   "source": [
    "even_set = {i for i in num_set if i % 2 == 0}\n",
    "print(even_set)"
   ]
  },
  {
   "cell_type": "code",
   "execution_count": 6,
   "id": "323d6d4d",
   "metadata": {},
   "outputs": [
    {
     "name": "stdout",
     "output_type": "stream",
     "text": [
      "{1, 2, 3, 4, 5}\n"
     ]
    }
   ],
   "source": [
    "duplicate_list = [1, 2, 3, 4, 2, 3, 5]\n",
    "unique_set = set(duplicate_list)\n",
    "print(unique_set)"
   ]
  },
  {
   "cell_type": "code",
   "execution_count": 7,
   "id": "360a1cbb",
   "metadata": {},
   "outputs": [
    {
     "name": "stdout",
     "output_type": "stream",
     "text": [
      "Is set2 a subset of set1? True\n",
      "Is set1 a superset of set2? True\n"
     ]
    }
   ],
   "source": [
    "set1 = set(range(1, 6))\n",
    "set2 = set(range(1, 4))\n",
    "print(\"Is set2 a subset of set1?\", set2.issubset(set1))\n",
    "print(\"Is set1 a superset of set2?\", set1.issuperset(set2))"
   ]
  },
  {
   "cell_type": "code",
   "execution_count": 8,
   "id": "da55de62",
   "metadata": {},
   "outputs": [
    {
     "name": "stdout",
     "output_type": "stream",
     "text": [
      "frozenset({1, 2, 3, 4, 5})\n"
     ]
    }
   ],
   "source": [
    "frozen_set = frozenset(range(1, 6))\n",
    "print(frozen_set)"
   ]
  },
  {
   "cell_type": "code",
   "execution_count": 9,
   "id": "6ecfc609",
   "metadata": {},
   "outputs": [
    {
     "name": "stdout",
     "output_type": "stream",
     "text": [
      "{1, 2, 3, 4, 5, 6}\n"
     ]
    }
   ],
   "source": [
    "set_to_list = set(range(1, 6))\n",
    "list_version = list(set_to_list)\n",
    "list_version.append(6)\n",
    "result_set = set(list_version)\n",
    "print(result_set)"
   ]
  },
  {
   "cell_type": "code",
   "execution_count": 10,
   "id": "b5e160f6",
   "metadata": {},
   "outputs": [
    {
     "name": "stdout",
     "output_type": "stream",
     "text": [
      "{frozenset({1, 2}): 10, frozenset({3, 4}): 20}\n"
     ]
    }
   ],
   "source": [
    "set_dict = {frozenset([1, 2]): 10, frozenset([3, 4]): 20}\n",
    "print(set_dict)"
   ]
  },
  {
   "cell_type": "code",
   "execution_count": 11,
   "id": "e770eaaf",
   "metadata": {},
   "outputs": [
    {
     "name": "stdout",
     "output_type": "stream",
     "text": [
      "1\n",
      "2\n",
      "3\n",
      "4\n",
      "5\n"
     ]
    }
   ],
   "source": [
    "iter_set = {1, 2, 3, 4, 5}\n",
    "for elem in iter_set:\n",
    "    print(elem)"
   ]
  },
  {
   "cell_type": "code",
   "execution_count": 12,
   "id": "5663b107",
   "metadata": {},
   "outputs": [
    {
     "name": "stdout",
     "output_type": "stream",
     "text": [
      "{2, 3, 4, 5}\n",
      "{3, 4, 5}\n",
      "{4, 5}\n",
      "{5}\n",
      "set()\n"
     ]
    }
   ],
   "source": [
    "remove_set = {1, 2, 3, 4, 5}\n",
    "while remove_set:\n",
    "    remove_set.pop()\n",
    "    print(remove_set)"
   ]
  },
  {
   "cell_type": "code",
   "execution_count": 13,
   "id": "55636edc",
   "metadata": {},
   "outputs": [
    {
     "name": "stdout",
     "output_type": "stream",
     "text": [
      "{1, 2, 5, 6}\n"
     ]
    }
   ],
   "source": [
    "set1 = {1, 2, 3, 4}\n",
    "set2 = {3, 4, 5, 6}\n",
    "set1.symmetric_difference_update(set2)\n",
    "print(set1)"
   ]
  },
  {
   "cell_type": "code",
   "execution_count": 14,
   "id": "9fab417b",
   "metadata": {},
   "outputs": [
    {
     "name": "stdout",
     "output_type": "stream",
     "text": [
      "Is 3 in the set? True\n",
      "Is 6 in the set? False\n"
     ]
    }
   ],
   "source": [
    "test_set = {1, 2, 3, 4, 5}\n",
    "print(\"Is 3 in the set?\", 3 in test_set)\n",
    "print(\"Is 6 in the set?\", 6 in test_set)"
   ]
  },
  {
   "cell_type": "code",
   "execution_count": 15,
   "id": "d7278c40",
   "metadata": {},
   "outputs": [
    {
     "name": "stdout",
     "output_type": "stream",
     "text": [
      "{(1, 2), (3, 4), (5, 6)}\n"
     ]
    }
   ],
   "source": [
    "tuple_set = {(1, 2), (3, 4), (5, 6)}\n",
    "print(tuple_set)"
   ]
  }
 ],
 "metadata": {
  "kernelspec": {
   "display_name": "Python 3 (ipykernel)",
   "language": "python",
   "name": "python3"
  },
  "language_info": {
   "codemirror_mode": {
    "name": "ipython",
    "version": 3
   },
   "file_extension": ".py",
   "mimetype": "text/x-python",
   "name": "python",
   "nbconvert_exporter": "python",
   "pygments_lexer": "ipython3",
   "version": "3.9.13"
  }
 },
 "nbformat": 4,
 "nbformat_minor": 5
}
