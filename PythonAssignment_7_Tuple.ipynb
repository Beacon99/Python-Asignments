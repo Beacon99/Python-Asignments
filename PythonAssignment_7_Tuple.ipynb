{
 "cells": [
  {
   "cell_type": "markdown",
   "id": "6f09422c",
   "metadata": {},
   "source": [
    "## Assignment 1: Creating and Accessing Tuples"
   ]
  },
  {
   "cell_type": "code",
   "execution_count": 1,
   "id": "83111144",
   "metadata": {},
   "outputs": [
    {
     "name": "stdout",
     "output_type": "stream",
     "text": [
      "(1, 2, 3, 4, 5, 6, 7, 8, 9, 10)\n"
     ]
    }
   ],
   "source": [
    "\n",
    "int_tuple = tuple(range(1, 11))\n",
    "print(int_tuple)\n",
    "     "
   ]
  },
  {
   "cell_type": "markdown",
   "id": "acc46b85",
   "metadata": {},
   "source": [
    "## Assignment 2: Accessing Tuple Elements"
   ]
  },
  {
   "cell_type": "code",
   "execution_count": 2,
   "id": "ce193220",
   "metadata": {},
   "outputs": [
    {
     "name": "stdout",
     "output_type": "stream",
     "text": [
      "First element: 1\n",
      "Middle element: 6\n",
      "Last element: 10\n"
     ]
    }
   ],
   "source": [
    "\n",
    "print(f\"First element: {int_tuple[0]}\")\n",
    "middle_index = len(int_tuple) // 2\n",
    "print(f\"Middle element: {int_tuple[middle_index]}\")\n",
    "print(f\"Last element: {int_tuple[-1]}\")\n",
    "     "
   ]
  },
  {
   "cell_type": "markdown",
   "id": "7cadf23c",
   "metadata": {},
   "source": [
    "## Assignment 3: Tuple Slicing"
   ]
  },
  {
   "cell_type": "code",
   "execution_count": 3,
   "id": "13f6b58b",
   "metadata": {},
   "outputs": [
    {
     "name": "stdout",
     "output_type": "stream",
     "text": [
      "First three elements: (1, 2, 3)\n",
      "Last three elements: (8, 9, 10)\n",
      "Elements from index 2 to 5: (3, 4, 5, 6)\n"
     ]
    }
   ],
   "source": [
    "\n",
    "print(f\"First three elements: {int_tuple[:3]}\")\n",
    "print(f\"Last three elements: {int_tuple[-3:]}\")\n",
    "print(f\"Elements from index 2 to 5: {int_tuple[2:6]}\")\n",
    "     "
   ]
  },
  {
   "cell_type": "markdown",
   "id": "e09b32ac",
   "metadata": {},
   "source": [
    "## Assignment 4: Nested Tuples"
   ]
  },
  {
   "cell_type": "code",
   "execution_count": 4,
   "id": "e8ae8cd4",
   "metadata": {},
   "outputs": [
    {
     "name": "stdout",
     "output_type": "stream",
     "text": [
      "Matrix:\n",
      "(1, 2, 3)\n",
      "(4, 5, 6)\n",
      "(7, 8, 9)\n",
      "Element at second row and third column: 6\n"
     ]
    }
   ],
   "source": [
    "\n",
    "matrix_tuple = (\n",
    "    (1, 2, 3),\n",
    "    (4, 5, 6),\n",
    "    (7, 8, 9)\n",
    ")\n",
    "print(\"Matrix:\")\n",
    "for row in matrix_tuple:\n",
    "    print(row)\n",
    "\n",
    "# Access element at second row and third column\n",
    "print(f\"Element at second row and third column: {matrix_tuple[1][2]}\")\n",
    "     "
   ]
  },
  {
   "cell_type": "markdown",
   "id": "d359a26e",
   "metadata": {},
   "source": [
    "## Assignment 5: Tuple Concatenation"
   ]
  },
  {
   "cell_type": "code",
   "execution_count": 5,
   "id": "47c3f1df",
   "metadata": {},
   "outputs": [
    {
     "name": "stdout",
     "output_type": "stream",
     "text": [
      "(1, 2, 3, 4, 5, 6)\n"
     ]
    }
   ],
   "source": [
    "\n",
    "tuple1 = (1, 2, 3)\n",
    "tuple2 = (4, 5, 6)\n",
    "concatenated_tuple = tuple1 + tuple2\n",
    "print(concatenated_tuple)\n",
    "     "
   ]
  },
  {
   "cell_type": "markdown",
   "id": "dd879dcc",
   "metadata": {},
   "source": [
    "## Assignment 6: Tuple Methods"
   ]
  },
  {
   "cell_type": "code",
   "execution_count": 6,
   "id": "1e80763c",
   "metadata": {},
   "outputs": [
    {
     "name": "stdout",
     "output_type": "stream",
     "text": [
      "Occurrences of 2: 3\n",
      "Index of first occurrence of 2: 1\n"
     ]
    }
   ],
   "source": [
    "\n",
    "duplicate_tuple = (1, 2, 3, 2, 4, 2, 5)\n",
    "print(f\"Occurrences of 2: {duplicate_tuple.count(2)}\")\n",
    "print(f\"Index of first occurrence of 2: {duplicate_tuple.index(2)}\")\n",
    "     "
   ]
  },
  {
   "cell_type": "markdown",
   "id": "baae6201",
   "metadata": {},
   "source": [
    "## Assignment 7: Unpacking Tuples"
   ]
  },
  {
   "cell_type": "code",
   "execution_count": 7,
   "id": "33854ffb",
   "metadata": {},
   "outputs": [
    {
     "name": "stdout",
     "output_type": "stream",
     "text": [
      "Unpacked values: 10, 20, 30, 40, 50\n"
     ]
    }
   ],
   "source": [
    "\n",
    "unpack_tuple = (10, 20, 30, 40, 50)\n",
    "a, b, c, d, e = unpack_tuple\n",
    "print(f\"Unpacked values: {a}, {b}, {c}, {d}, {e}\")\n",
    "     "
   ]
  },
  {
   "cell_type": "markdown",
   "id": "16831d5a",
   "metadata": {},
   "source": [
    "## Assignment 8: Tuple Conversion"
   ]
  },
  {
   "cell_type": "code",
   "execution_count": 8,
   "id": "c445555b",
   "metadata": {},
   "outputs": [
    {
     "name": "stdout",
     "output_type": "stream",
     "text": [
      "(1, 2, 3, 4, 5)\n"
     ]
    }
   ],
   "source": [
    "\n",
    "int_list = [1, 2, 3, 4, 5]\n",
    "converted_tuple = tuple(int_list)\n",
    "print(converted_tuple)\n",
    "     "
   ]
  },
  {
   "cell_type": "markdown",
   "id": "2d06855e",
   "metadata": {},
   "source": [
    "## Assignment 9: Tuple of Tuples"
   ]
  },
  {
   "cell_type": "code",
   "execution_count": 9,
   "id": "2e64a291",
   "metadata": {},
   "outputs": [
    {
     "name": "stdout",
     "output_type": "stream",
     "text": [
      "((1, 2, 3), (4, 5, 6), (7, 8, 9))\n"
     ]
    }
   ],
   "source": [
    "\n",
    "tuple_of_tuples = (\n",
    "    (1, 2, 3),\n",
    "    (4, 5, 6),\n",
    "    (7, 8, 9)\n",
    ")\n",
    "print(tuple_of_tuples)\n",
    "     "
   ]
  },
  {
   "cell_type": "markdown",
   "id": "9401d71c",
   "metadata": {},
   "source": [
    "## Assignment 10: Tuple and List"
   ]
  },
  {
   "cell_type": "code",
   "execution_count": 10,
   "id": "e8ccbaf5",
   "metadata": {},
   "outputs": [
    {
     "name": "stdout",
     "output_type": "stream",
     "text": [
      "(1, 2, 3, 4, 5, 6)\n"
     ]
    }
   ],
   "source": [
    "\n",
    "tuple1 = (1, 2, 3, 4, 5)\n",
    "list_version = list(tuple1)\n",
    "list_version.append(6)\n",
    "result_tuple = tuple(list_version)\n",
    "print(result_tuple)\n",
    "     "
   ]
  },
  {
   "cell_type": "markdown",
   "id": "9065ce8f",
   "metadata": {},
   "source": [
    "## Assignment 11: Tuple and String"
   ]
  },
  {
   "cell_type": "code",
   "execution_count": 11,
   "id": "dd59c3db",
   "metadata": {},
   "outputs": [
    {
     "name": "stdout",
     "output_type": "stream",
     "text": [
      "hello\n"
     ]
    }
   ],
   "source": [
    "\n",
    "char_tuple = tuple(\"hello\")\n",
    "joined_string = ''.join(char_tuple)\n",
    "print(joined_string)\n",
    "     "
   ]
  },
  {
   "cell_type": "markdown",
   "id": "a6e522b5",
   "metadata": {},
   "source": [
    "## Assignment 12: Tuple and Dictionary"
   ]
  },
  {
   "cell_type": "code",
   "execution_count": 12,
   "id": "83105cce",
   "metadata": {},
   "outputs": [
    {
     "name": "stdout",
     "output_type": "stream",
     "text": [
      "{(1, 2): 10, (3, 4): 20, (5, 6): 30}\n"
     ]
    }
   ],
   "source": [
    "\n",
    "tuple_dict = {\n",
    "    (1, 2): 10,\n",
    "    (3, 4): 20,\n",
    "    (5, 6): 30\n",
    "}\n",
    "print(tuple_dict)\n",
    "     "
   ]
  },
  {
   "cell_type": "markdown",
   "id": "09b311c1",
   "metadata": {},
   "source": [
    "## Assignment 13: Nested Tuple Iteration"
   ]
  },
  {
   "cell_type": "code",
   "execution_count": 13,
   "id": "01790210",
   "metadata": {},
   "outputs": [
    {
     "name": "stdout",
     "output_type": "stream",
     "text": [
      "1 2 3 \n",
      "4 5 6 \n",
      "7 8 9 \n"
     ]
    }
   ],
   "source": [
    "\n",
    "nested_tuple = (\n",
    "    (1, 2, 3),\n",
    "    (4, 5, 6),\n",
    "    (7, 8, 9)\n",
    ")\n",
    "\n",
    "for row in nested_tuple:\n",
    "    for elem in row:\n",
    "        print(elem, end=' ')\n",
    "    print()\n",
    "     "
   ]
  },
  {
   "cell_type": "markdown",
   "id": "9ea4b002",
   "metadata": {},
   "source": [
    "## Assignment 14: Tuple and Set"
   ]
  },
  {
   "cell_type": "code",
   "execution_count": 14,
   "id": "1391c96f",
   "metadata": {},
   "outputs": [
    {
     "name": "stdout",
     "output_type": "stream",
     "text": [
      "{1, 2, 3, 4, 5}\n"
     ]
    }
   ],
   "source": [
    "\n",
    "duplicate_tuple = (1, 2, 3, 2, 4, 2, 5)\n",
    "unique_set = set(duplicate_tuple)\n",
    "print(unique_set)\n",
    "     "
   ]
  },
  {
   "cell_type": "markdown",
   "id": "8ee410d7",
   "metadata": {},
   "source": [
    "## Assignment 15: Tuple Functions"
   ]
  },
  {
   "cell_type": "code",
   "execution_count": 15,
   "id": "b3a7ab9d",
   "metadata": {},
   "outputs": [
    {
     "name": "stdout",
     "output_type": "stream",
     "text": [
      "Minimum: 10\n",
      "Maximum: 50\n",
      "Sum: 150\n"
     ]
    }
   ],
   "source": [
    "\n",
    "def tuple_min(tup):\n",
    "    return min(tup)\n",
    "\n",
    "def tuple_max(tup):\n",
    "    return max(tup)\n",
    "\n",
    "def tuple_sum(tup):\n",
    "    return sum(tup)\n",
    "\n",
    "sample_tuple = (10, 20, 30, 40, 50)\n",
    "print(f\"Minimum: {tuple_min(sample_tuple)}\")\n",
    "print(f\"Maximum: {tuple_max(sample_tuple)}\")\n",
    "print(f\"Sum: {tuple_sum(sample_tuple)}\")\n",
    "     "
   ]
  }
 ],
 "metadata": {
  "kernelspec": {
   "display_name": "Python 3 (ipykernel)",
   "language": "python",
   "name": "python3"
  },
  "language_info": {
   "codemirror_mode": {
    "name": "ipython",
    "version": 3
   },
   "file_extension": ".py",
   "mimetype": "text/x-python",
   "name": "python",
   "nbconvert_exporter": "python",
   "pygments_lexer": "ipython3",
   "version": "3.9.13"
  }
 },
 "nbformat": 4,
 "nbformat_minor": 5
}
